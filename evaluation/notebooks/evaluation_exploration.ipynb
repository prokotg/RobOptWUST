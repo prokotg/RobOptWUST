{
 "cells": [
  {
   "cell_type": "code",
   "execution_count": 1,
   "id": "9eb99acc",
   "metadata": {},
   "outputs": [],
   "source": [
    "import pandas as pd\n",
    "import os\n",
    "import matplotlib.pyplot as plt\n",
    "import matplotlib.image as mpimg\n",
    "import seaborn as sns"
   ]
  },
  {
   "cell_type": "code",
   "execution_count": 6,
   "id": "be0e2d1e",
   "metadata": {},
   "outputs": [],
   "source": [
    "LOGS_DIR = '../../evaluation_logs'\n",
    "networks_dirs = []\n",
    "for directory in os.listdir(LOGS_DIR):\n",
    "    if os.path.isdir(f'{LOGS_DIR}/{directory}'):\n",
    "        any_sub = False\n",
    "        for sub_directory in os.listdir(f'{LOGS_DIR}/{directory}'):\n",
    "            if os.path.isdir(f'{LOGS_DIR}/{directory}/{sub_directory}'):\n",
    "                networks_dirs.append(f'{LOGS_DIR}/{directory}/{sub_directory}')\n",
    "                any_sub = True\n",
    "        if not any_sub:\n",
    "            networks_dirs.append(f'{LOGS_DIR}/{directory}')\n",
    "networks_dirs = sorted(networks_dirs)"
   ]
  },
  {
   "cell_type": "code",
   "execution_count": 7,
   "id": "b59de278",
   "metadata": {},
   "outputs": [
    {
     "name": "stdout",
     "output_type": "stream",
     "text": [
      "Network ../../evaluation_logs/resnet26/0.0:\n",
      "Accuracy mixed_next : 13.227\n",
      "Accuracy mixed_rand : 16.013\n",
      "Accuracy only_fg : 14.656\n",
      "Accuracy original : 30.703\n",
      "Accuracy no_fg : 28.141\n",
      "Accuracy only_bg_t : 27.467\n",
      "Network ../../evaluation_logs/resnet26/0.25:\n",
      "Accuracy mixed_next : 12.973\n",
      "Accuracy mixed_rand : 15.946\n",
      "Accuracy only_fg : 15.597\n",
      "Accuracy original : 29.336\n",
      "Accuracy no_fg : 26.974\n",
      "Accuracy only_bg_t : 26.128\n",
      "Network ../../evaluation_logs/resnet26/0.5:\n",
      "Accuracy mixed_next : 13.389\n",
      "Accuracy mixed_rand : 15.851\n",
      "Accuracy only_fg : 15.617\n",
      "Accuracy original : 25.889\n",
      "Accuracy no_fg : 23.953\n",
      "Accuracy only_bg_t : 23.097\n",
      "Network ../../evaluation_logs/resnet26/1.0:\n",
      "Accuracy mixed_next : 12.696\n",
      "Accuracy mixed_rand : 14.144\n",
      "Accuracy only_fg : 13.872\n",
      "Accuracy original : 15.989\n",
      "Accuracy no_fg : 13.891\n",
      "Accuracy only_bg_t : 13.838\n",
      "Network ../../evaluation_logs/resnet34/0.0:\n",
      "Accuracy mixed_next : 13.963\n",
      "Accuracy mixed_rand : 15.946\n",
      "Accuracy only_fg : 13.442\n",
      "Accuracy original : 33.231\n",
      "Accuracy no_fg : 29.469\n",
      "Accuracy only_bg_t : 29.197\n",
      "Network ../../evaluation_logs/resnet34/1.0:\n",
      "Accuracy mixed_next : 17.925\n",
      "Accuracy mixed_rand : 19.527\n",
      "Accuracy only_fg : 20.214\n",
      "Accuracy original : 24.767\n",
      "Accuracy no_fg : 19.951\n",
      "Accuracy only_bg_t : 17.292\n"
     ]
    }
   ],
   "source": [
    "def load_df_from_file(filename):\n",
    "    return pd.read_csv(filename, delimiter=';')\n",
    "\n",
    "def load_df_from_dir(dir_name):\n",
    "    result = None\n",
    "    dataset_columns = {}\n",
    "    for log_file in os.listdir(dir_name):\n",
    "        if os.path.isfile(f'{dir_name}/{log_file}'):\n",
    "            df = load_df_from_file(f'{dir_name}/{log_file}')\n",
    "            df = df.dropna(how='all', axis=1)\n",
    "            if df is None or 'class' not in df.columns:\n",
    "                continue\n",
    "            for column in df.columns:\n",
    "                new_name = f'{column}_{log_file}'\n",
    "                if 'data' in column:\n",
    "                    if '_loader' in column:\n",
    "                        dataset_name = column.replace('.data', '').replace('_loader', '')\n",
    "                        if dataset_name not in dataset_columns:\n",
    "                            dataset_columns[dataset_name] = []\n",
    "                        dataset_columns[dataset_name].append(new_name)\n",
    "                        df = df.rename(columns={column: new_name})\n",
    "                        \n",
    "                    elif '_path' in column:\n",
    "                        df = df.rename(columns={column: new_name})\n",
    "            \n",
    "            if result is None:\n",
    "                result = df\n",
    "            else:\n",
    "                result = result.merge(df, on=['class', 'nr', 'id'])\n",
    "    return result, dataset_columns\n",
    "\n",
    "summed_all = None\n",
    "\n",
    "datasets_r = []\n",
    "networks_r = []\n",
    "accuracies_r = []\n",
    "for net in networks_dirs:\n",
    "    df, l_columns = load_df_from_dir(f'{net}')\n",
    "    if df is None or 'class' not in df.columns:\n",
    "        continue\n",
    "    acc_sums = {}\n",
    "    for letter in l_columns:\n",
    "        acc_sums[letter] = df[l_columns[letter]].sum()\n",
    "    counter = len(df['class'])\n",
    "    print(f'Network {net}:')\n",
    "    for letter in l_columns:\n",
    "        if 'auto' in net:\n",
    "            print(f'Accuracy {letter} : {(acc_sums[letter]/counter).mean()*100:0.3f}')\n",
    "            datasets_r.append(letter)\n",
    "            networks_r.append(net.replace(LOGS_DIR, ''))\n",
    "            accuracies_r.append((acc_sums[letter]/counter).mean()*100)\n",
    "            \n",
    "        else:\n",
    "            print(f'Accuracy {letter} : {(acc_sums[letter]/counter).mean()*100:0.3f}')\n",
    "            datasets_r.append(letter)\n",
    "            networks_r.append(net.replace(LOGS_DIR, ''))\n",
    "            accuracies_r.append((acc_sums[letter]/counter).mean()*100)\n",
    "d = [datasets_r, networks_r, accuracies_r]"
   ]
  },
  {
   "cell_type": "code",
   "execution_count": 8,
   "id": "e8c6865d",
   "metadata": {},
   "outputs": [],
   "source": [
    "d = list(zip(*d[::-1]))\n",
    "d = list(zip(*d[::-1]))\n",
    "d = list(zip(*d[::-1]))"
   ]
  },
  {
   "cell_type": "code",
   "execution_count": 9,
   "id": "101165e6",
   "metadata": {},
   "outputs": [
    {
     "data": {
      "image/png": "[encoded data removed]",
      "text/plain": [
       "<Figure size 958.625x864 with 1 Axes>"
      ]
     },
     "metadata": {
      "needs_background": "light"
     },
     "output_type": "display_data"
    }
   ],
   "source": [
    "res_df = pd.DataFrame(data=d, columns=['dataset', 'network', 'accuracy'])\n",
    "g = sns.catplot(\n",
    "    data=res_df, kind=\"bar\",\n",
    "    x=\"network\", y=\"accuracy\", hue=\"dataset\",\n",
    "    ci=\"sd\", palette=\"dark\", alpha=.85, height=12\n",
    ")\n",
    "g.despine(left=True)\n",
    "g.set_axis_labels(\"\", \"Accuracy\")\n",
    "g.legend.set_title(\"\")"
   ]
  },
  {
   "cell_type": "code",
   "execution_count": null,
   "id": "c7a00771",
   "metadata": {},
   "outputs": [],
   "source": []
  },
  {
   "cell_type": "code",
   "execution_count": null,
   "id": "aa9ca61c",
   "metadata": {},
   "outputs": [],
   "source": []
  }
 ],
 "metadata": {
  "kernelspec": {
   "display_name": "3.9.9",
   "language": "python",
   "name": "3.9.9"
  },
  "language_info": {
   "codemirror_mode": {
    "name": "ipython",
    "version": 3
   },
   "file_extension": ".py",
   "mimetype": "text/x-python",
   "name": "python",
   "nbconvert_exporter": "python",
   "pygments_lexer": "ipython3",
   "version": "3.9.9"
  }
 },
 "nbformat": 4,
 "nbformat_minor": 5
}
