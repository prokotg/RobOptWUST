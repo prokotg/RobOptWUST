{
 "cells": [
  {
   "cell_type": "code",
   "execution_count": 1,
   "id": "e811c820",
   "metadata": {},
   "outputs": [],
   "source": [
    "import warnings\n",
    "warnings.simplefilter(action='ignore', category=FutureWarning)\n",
    "\n",
    "import pickle as pkl\n",
    "import sys\n",
    "import matplotlib.pyplot as plt\n",
    "from torchvision import utils\n",
    "sys.path.append('../..')\n",
    "from evaluation.scripts.challenge_eval import run_bg_challenge\n",
    "from pytorch_lightning.callbacks import Callback\n",
    "from data.bgc_eval_datasets import ImageNet9\n",
    "\n",
    "class AutopickleModel(Callback): #Thing that was helping with pickling is also messing up pickling, how delightful\n",
    "    def __init__(self, model):\n",
    "        self.model = model\n",
    "\n",
    "    def on_validation_epoch_end(self, trainer, module):\n",
    "        model_file = open(args.save_path, 'wb')\n",
    "        # The base model should not need it anymore- and it's a bit messing up pickling\n",
    "        self.model.base_model.train_dataloader = None\n",
    "        self.model.base_model.val_dataloader = None\n",
    "        self.model.base_model.trainer = None\n",
    "        pkl.dump(self.model, model_file)\n",
    "        model_file.close()"
   ]
  },
  {
   "cell_type": "code",
   "execution_count": 2,
   "id": "e723265e",
   "metadata": {
    "scrolled": true
   },
   "outputs": [
    {
     "name": "stdout",
     "output_type": "stream",
     "text": [
      "==> Preparing dataset ImageNet9..\n"
     ]
    },
    {
     "name": "stderr",
     "output_type": "stream",
     "text": [
      " 33%|██████████████▋                             | 3/9 [09:39<19:33, 195.65s/it]Traceback (most recent call last):\n",
      "Traceback (most recent call last):\n",
      "100%|████████████████████████████████████████████| 9/9 [28:33<00:00, 190.39s/it]\n"
     ]
    },
    {
     "name": "stdout",
     "output_type": "stream",
     "text": [
      "Model flow_nice_77ep_256emb_conv: -99.0\n"
     ]
    },
    {
     "name": "stderr",
     "output_type": "stream",
     "text": [
      "100%|████████████████████████████████████████████| 9/9 [27:17<00:00, 181.89s/it]"
     ]
    },
    {
     "name": "stdout",
     "output_type": "stream",
     "text": [
      "Model flow_nice_77ep_nf: -99.0\n"
     ]
    },
    {
     "name": "stderr",
     "output_type": "stream",
     "text": [
      "\n"
     ]
    },
    {
     "ename": "NotADirectoryError",
     "evalue": "[Errno 20] Not a directory: '/home/macron/Praca Magisterska/Gotowe Sieci/flow_nice_30ep_nf.pkl/home/macron/Praca Magisterska/Gotowe Sieci/flow_nice_30ep_100emb_conv.pkl'",
     "output_type": "error",
     "traceback": [
      "\u001b[0;31m---------------------------------------------------------------------------\u001b[0m",
      "\u001b[0;31mNotADirectoryError\u001b[0m                        Traceback (most recent call last)",
      "\u001b[0;32m/tmp/ipykernel_1078287/891766141.py\u001b[0m in \u001b[0;36m<module>\u001b[0;34m\u001b[0m\n\u001b[1;32m     22\u001b[0m         \u001b[0mresults\u001b[0m\u001b[0;34m[\u001b[0m\u001b[0mmodel_name\u001b[0m\u001b[0;34m]\u001b[0m \u001b[0;34m=\u001b[0m \u001b[0mcached\u001b[0m\u001b[0;34m[\u001b[0m\u001b[0mmodel_name\u001b[0m\u001b[0;34m]\u001b[0m\u001b[0;34m\u001b[0m\u001b[0;34m\u001b[0m\u001b[0m\n\u001b[1;32m     23\u001b[0m         \u001b[0;32mcontinue\u001b[0m\u001b[0;34m\u001b[0m\u001b[0;34m\u001b[0m\u001b[0m\n\u001b[0;32m---> 24\u001b[0;31m     \u001b[0mmodel_file\u001b[0m \u001b[0;34m=\u001b[0m \u001b[0mopen\u001b[0m\u001b[0;34m(\u001b[0m\u001b[0mpath\u001b[0m\u001b[0;34m,\u001b[0m \u001b[0;34m'rb'\u001b[0m\u001b[0;34m)\u001b[0m\u001b[0;34m\u001b[0m\u001b[0;34m\u001b[0m\u001b[0m\n\u001b[0m\u001b[1;32m     25\u001b[0m     \u001b[0mmodel\u001b[0m \u001b[0;34m=\u001b[0m \u001b[0mpkl\u001b[0m\u001b[0;34m.\u001b[0m\u001b[0mload\u001b[0m\u001b[0;34m(\u001b[0m\u001b[0mmodel_file\u001b[0m\u001b[0;34m)\u001b[0m\u001b[0;34m\u001b[0m\u001b[0;34m\u001b[0m\u001b[0m\n\u001b[1;32m     26\u001b[0m     \u001b[0mmodel_file\u001b[0m\u001b[0;34m.\u001b[0m\u001b[0mclose\u001b[0m\u001b[0;34m(\u001b[0m\u001b[0;34m)\u001b[0m\u001b[0;34m\u001b[0m\u001b[0;34m\u001b[0m\u001b[0m\n",
      "\u001b[0;31mNotADirectoryError\u001b[0m: [Errno 20] Not a directory: '/home/macron/Praca Magisterska/Gotowe Sieci/flow_nice_30ep_nf.pkl/home/macron/Praca Magisterska/Gotowe Sieci/flow_nice_30ep_100emb_conv.pkl'"
     ]
    }
   ],
   "source": [
    "MODEL_PATHS = ['/home/macron/Praca Magisterska/Gotowe Sieci/clean.pkl',\n",
    "               '/home/macron/Praca Magisterska/Gotowe Sieci/flow_3ep_start_epclear_nolimit.pkl',\n",
    "               '/home/macron/Praca Magisterska/Gotowe Sieci/flow_nice_77ep_256emb_conv.pkl',\n",
    "               '/home/macron/Praca Magisterska/Gotowe Sieci/flow_nice_77ep_nf.pkl',\n",
    "               '/home/macron/Praca Magisterska/Gotowe Sieci/flow_nice_30ep_nf.pkl'\n",
    "               '/home/macron/Praca Magisterska/Gotowe Sieci/flow_nice_30ep_100emb_conv.pkl',]\n",
    "               #'/home/macron/Praca Magisterska/Gotowe Sieci/flow_nice_30ep_100emb.pkl',\n",
    "               #'/home/macron/Praca Magisterska/Gotowe Sieci/flow_nice_77ep_256emb.pkl']\n",
    "cached = {'clean' : 100 - 99.97530864197531, 'flow_3ep_start_epclear_nolimit' : 0.0,\n",
    "         'flow_nice_77ep_256emb_conv' : 0.0, 'flow_nice_77ep_nf' : 0.0}\n",
    "force = False\n",
    "\n",
    "or_path = '/home/macron/Praca Magisterska/BGC Dane/original/val/'\n",
    "fg_path = '/home/macron/Praca Magisterska/BGC Dane/fg_mask/val/'\n",
    "\n",
    "bg_ds = ImageNet9(f'/home/macron/Praca Magisterska/BGC Dane/only_bg_t')\n",
    "bg_loader = bg_ds.make_loaders(batch_size=16, workers=8)\n",
    "\n",
    "results = {}\n",
    "for path in MODEL_PATHS:\n",
    "    model_name = path.split('/')[-1].replace('.pkl', '')\n",
    "    if model_name in cached and not force:\n",
    "        results[model_name] = cached[model_name]\n",
    "        continue\n",
    "    model_file = open(path, 'rb')\n",
    "    model = pkl.load(model_file)\n",
    "    model_file.close()\n",
    "    model.cuda()\n",
    "    avg = (1 - run_bg_challenge(model, bg_loader, or_path, fg_path)) * 100\n",
    "    \n",
    "    print(f'Model {model_name}: {avg}')\n",
    "    results[model_name] = avg"
   ]
  },
  {
   "cell_type": "code",
   "execution_count": 3,
   "id": "012ce8dd",
   "metadata": {},
   "outputs": [
    {
     "data": {
      "text/plain": [
       "<seaborn.axisgrid.FacetGrid at 0x7f5da7c14130>"
      ]
     },
     "execution_count": 3,
     "metadata": {},
     "output_type": "execute_result"
    },
    {
     "data": {
      "image/png": "[encoded data removed]",
      "text/plain": [
       "<Figure size 360x360 with 1 Axes>"
      ]
     },
     "metadata": {},
     "output_type": "display_data"
    }
   ],
   "source": [
    "import pandas as pd\n",
    "import seaborn as sns\n",
    "import matplotlib.pyplot as plt\n",
    "sns.set_theme(style=\"ticks\", color_codes=True)\n",
    "\n",
    "names = []\n",
    "values = []\n",
    "for md in results:\n",
    "    names.append(md)\n",
    "    values.append(results[md])\n",
    "\n",
    "sns.catplot(x=\"names\", y=\"values\", hue=\"names\", kind=\"bar\", data=pd.DataFrame({'names' : names, 'values' : values}))"
   ]
  },
  {
   "cell_type": "code",
   "execution_count": null,
   "id": "dec11317",
   "metadata": {},
   "outputs": [],
   "source": []
  }
 ],
 "metadata": {
  "kernelspec": {
   "display_name": "3.9.9",
   "language": "python",
   "name": "3.9.9"
  },
  "language_info": {
   "codemirror_mode": {
    "name": "ipython",
    "version": 3
   },
   "file_extension": ".py",
   "mimetype": "text/x-python",
   "name": "python",
   "nbconvert_exporter": "python",
   "pygments_lexer": "ipython3",
   "version": "3.9.9"
  }
 },
 "nbformat": 4,
 "nbformat_minor": 5
}
