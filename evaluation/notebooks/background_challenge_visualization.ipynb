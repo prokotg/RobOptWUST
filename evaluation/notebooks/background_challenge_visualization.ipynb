{
 "cells": [
  {
   "cell_type": "code",
   "execution_count": 1,
   "id": "467a03d8",
   "metadata": {},
   "outputs": [],
   "source": [
    "import warnings\n",
    "warnings.simplefilter(action='ignore', category=FutureWarning)\n",
    "\n",
    "import pickle as pkl\n",
    "import sys\n",
    "import matplotlib.pyplot as plt\n",
    "from torchvision import utils\n",
    "sys.path.append('../..')\n",
    "from evaluation.scripts.challenge_eval import run_bg_challenge\n",
    "from pytorch_lightning.callbacks import Callback\n",
    "from data.bgc_eval_datasets import ImageNet9\n",
    "\n",
    "class AutopickleModel(Callback): #Thing that was helping with pickling is also messing up pickling, how delightful\n",
    "    def __init__(self, model):\n",
    "        self.model = model\n",
    "\n",
    "    def on_validation_epoch_end(self, trainer, module):\n",
    "        model_file = open(args.save_path, 'wb')\n",
    "        # The base model should not need it anymore- and it's a bit messing up pickling\n",
    "        self.model.base_model.train_dataloader = None\n",
    "        self.model.base_model.val_dataloader = None\n",
    "        self.model.base_model.trainer = None\n",
    "        pkl.dump(self.model, model_file)\n",
    "        model_file.close()"
   ]
  },
  {
   "cell_type": "code",
   "execution_count": 2,
   "id": "c9e4e2d0",
   "metadata": {
    "scrolled": true
   },
   "outputs": [
    {
     "name": "stdout",
     "output_type": "stream",
     "text": [
      "==> Preparing dataset ImageNet9..\n",
      "flow_nice_77ep_256emb_512z\n"
     ]
    },
    {
     "name": "stderr",
     "output_type": "stream",
     "text": [
      "\r\n",
      "  0%|                                                  | 0/4050 [00:00<?, ?it/s]"
     ]
    },
    {
     "name": "stdout",
     "output_type": "stream",
     "text": [
      "00_dog\n",
      "0\n"
     ]
    },
    {
     "name": "stderr",
     "output_type": "stream",
     "text": [
      "vulnerable: 59/450:  11%|██                | 450/4050 [48:24<6:47:13,  6.79s/it]"
     ]
    },
    {
     "name": "stdout",
     "output_type": "stream",
     "text": [
      "01_bird\n",
      "1\n"
     ]
    },
    {
     "name": "stderr",
     "output_type": "stream",
     "text": [
      "vulnerable: 509/900:  22%|████▏              | 900/4050 [53:19<33:37,  1.56it/s]"
     ]
    },
    {
     "name": "stdout",
     "output_type": "stream",
     "text": [
      "02_wheeled vehicle\n",
      "2\n"
     ]
    },
    {
     "name": "stderr",
     "output_type": "stream",
     "text": [
      "vulnerable: 959/1350:  33%|█████▋           | 1350/4050 [58:37<30:14,  1.49it/s]"
     ]
    },
    {
     "name": "stdout",
     "output_type": "stream",
     "text": [
      "03_reptile\n",
      "3\n"
     ]
    },
    {
     "name": "stderr",
     "output_type": "stream",
     "text": [
      "vulnerable: 1312/1800:  44%|█████▎      | 1800/4050 [1:19:24<2:19:06,  3.71s/it]"
     ]
    },
    {
     "name": "stdout",
     "output_type": "stream",
     "text": [
      "04_carnivore\n",
      "4\n"
     ]
    },
    {
     "name": "stderr",
     "output_type": "stream",
     "text": [
      "vulnerable: 1762/2250:  56%|███████▊      | 2250/4050 [1:24:11<18:37,  1.61it/s]"
     ]
    },
    {
     "name": "stdout",
     "output_type": "stream",
     "text": [
      "05_insect\n",
      "5\n"
     ]
    },
    {
     "name": "stderr",
     "output_type": "stream",
     "text": [
      "vulnerable: 2212/2700:  67%|█████████▎    | 2700/4050 [1:29:01<14:22,  1.56it/s]"
     ]
    },
    {
     "name": "stdout",
     "output_type": "stream",
     "text": [
      "06_musical instrument\n",
      "6\n"
     ]
    },
    {
     "name": "stderr",
     "output_type": "stream",
     "text": [
      "vulnerable: 2607/3150:  78%|██████████▉   | 3150/4050 [1:43:01<14:33,  1.03it/s]"
     ]
    },
    {
     "name": "stdout",
     "output_type": "stream",
     "text": [
      "07_primate\n",
      "7\n"
     ]
    },
    {
     "name": "stderr",
     "output_type": "stream",
     "text": [
      "vulnerable: 3046/3600:  89%|████████████▍ | 3600/4050 [1:51:38<04:55,  1.52it/s]"
     ]
    },
    {
     "name": "stdout",
     "output_type": "stream",
     "text": [
      "08_fish\n",
      "8\n"
     ]
    },
    {
     "name": "stderr",
     "output_type": "stream",
     "text": [
      "vulnerable: 3495/4050: 100%|██████████████| 4050/4050 [1:57:23<00:00,  1.74s/it]"
     ]
    },
    {
     "name": "stdout",
     "output_type": "stream",
     "text": [
      "Model flow_nice_77ep_256emb_512z: 13.703703703703706\n"
     ]
    },
    {
     "name": "stderr",
     "output_type": "stream",
     "text": [
      "\n"
     ]
    }
   ],
   "source": [
    "MODEL_PATHS = ['/home/macron/Praca Magisterska/Gotowe Sieci/clean.pkl',\n",
    "               #'/home/macron/Praca Magisterska/Gotowe Sieci/flow_3ep_start_epclear_nolimit.pkl',\n",
    "               '/home/macron/Praca Magisterska/Gotowe Sieci/flow_nice_77ep_256emb_conv.pkl',\n",
    "               '/home/macron/Praca Magisterska/Gotowe Sieci/flow_nice_77ep_nf.pkl',\n",
    "               '/home/macron/Praca Magisterska/Gotowe Sieci/flow_nice_30ep_nf.pkl',\n",
    "               '/home/macron/Praca Magisterska/Gotowe Sieci/flow_nice_30ep_100emb_conv.pkl',\n",
    "               '/home/macron/Praca Magisterska/Gotowe Sieci/flow_nice_77ep_256emb_512z.pkl']\n",
    "               #'/home/macron/Praca Magisterska/Gotowe Sieci/flow_nice_30ep_100emb.pkl',\n",
    "               #'/home/macron/Praca Magisterska/Gotowe Sieci/flow_nice_77ep_256emb.pkl']\n",
    "cached = {'clean' : 6.74,\n",
    "          'flow_nice_77ep_256emb_conv' : 0.0, 'flow_nice_77ep_nf' : 34.839506172839506,\n",
    "          'flow_nice_30ep_nf' : 33.08641975308642, 'flow_nice_30ep_100emb_conv' : 0.0, 'flow_nice_77ep_256emb_512z' : 13.703703703703706}\n",
    "force = False\n",
    "\n",
    "ORIGINAL_PATH = '/home/macron/Praca Magisterska/BGC Dane/original/val/'\n",
    "FOREGROUND_PATH = '/home/macron/Praca Magisterska/BGC Dane/fg_mask/val/'\n",
    "\n",
    "bg_ds = ImageNet9(f'/home/macron/Praca Magisterska/BGC Dane/only_bg_t')\n",
    "bg_loader = bg_ds.make_loaders(batch_size=16, workers=8)\n",
    "\n",
    "results = {}\n",
    "for path in MODEL_PATHS:\n",
    "    model_name = path.split('/')[-1].replace('.pkl', '')\n",
    "    if model_name in cached and not force:\n",
    "        results[model_name] = cached[model_name]\n",
    "        continue\n",
    "    model_file = open(path, 'rb')\n",
    "    print(model_name)\n",
    "    model = pkl.load(model_file)\n",
    "    model_file.close()\n",
    "    model.cuda()\n",
    "    model.eval()\n",
    "    avg = (1 - run_bg_challenge(model, bg_loader, ORIGINAL_PATH, FOREGROUND_PATH)) * 100\n",
    "    \n",
    "    print(f'Model {model_name}: {avg}')\n",
    "    results[model_name] = avg"
   ]
  },
  {
   "cell_type": "code",
   "execution_count": 3,
   "id": "7c8b60c5",
   "metadata": {},
   "outputs": [
    {
     "data": {
      "text/plain": [
       "<seaborn.axisgrid.FacetGrid at 0x7f9233338e50>"
      ]
     },
     "execution_count": 3,
     "metadata": {},
     "output_type": "execute_result"
    },
    {
     "data": {
      "image/png": "[encoded data removed]",
      "text/plain": [
       "<Figure size 360x360 with 1 Axes>"
      ]
     },
     "metadata": {},
     "output_type": "display_data"
    }
   ],
   "source": [
    "import pandas as pd\n",
    "import seaborn as sns\n",
    "import matplotlib.pyplot as plt\n",
    "sns.set_theme(style=\"ticks\", color_codes=True)\n",
    "\n",
    "names = []\n",
    "values = []\n",
    "for md in results:\n",
    "    names.append(md)\n",
    "    values.append(results[md])\n",
    "\n",
    "sns.catplot(x=\"names\", y=\"values\", hue=\"names\", kind=\"bar\", data=pd.DataFrame({'names' : names, 'values' : values}))"
   ]
  },
  {
   "cell_type": "code",
   "execution_count": null,
   "id": "f9ea536e",
   "metadata": {},
   "outputs": [],
   "source": []
  }
 ],
 "metadata": {
  "kernelspec": {
   "display_name": "3.9.9",
   "language": "python",
   "name": "3.9.9"
  },
  "language_info": {
   "codemirror_mode": {
    "name": "ipython",
    "version": 3
   },
   "file_extension": ".py",
   "mimetype": "text/x-python",
   "name": "python",
   "nbconvert_exporter": "python",
   "pygments_lexer": "ipython3",
   "version": "3.9.9"
  }
 },
 "nbformat": 4,
 "nbformat_minor": 5
}
